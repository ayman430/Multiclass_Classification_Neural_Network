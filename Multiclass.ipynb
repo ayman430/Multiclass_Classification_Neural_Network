{
 "cells": [
  {
   "cell_type": "markdown",
   "id": "909dec43",
   "metadata": {},
   "source": [
    "# Multiclass Classification\n"
   ]
  },
  {
   "cell_type": "code",
   "execution_count": 39,
   "id": "74f907e0",
   "metadata": {},
   "outputs": [],
   "source": [
    "import numpy as np\n",
    "import matplotlib.pylab as plt \n",
    "from sklearn.datasets import make_blobs\n",
    "import tensorflow as tf\n",
    "from tensorflow.keras.models import Sequential\n",
    "from tensorflow.keras.layers import Dense\n",
    "from lab_utils_multiclass_TF import *"
   ]
  },
  {
   "cell_type": "markdown",
   "id": "d5368b6e",
   "metadata": {},
   "source": [
    "### Create data"
   ]
  },
  {
   "cell_type": "code",
   "execution_count": 15,
   "id": "38e9e7c9",
   "metadata": {},
   "outputs": [],
   "source": [
    "centers = [[-5, 2], [-2, -2], [1, 2], [5, -2]]\n",
    "std = 1.0\n",
    "\n",
    "X_train , y_train = make_blobs(n_samples=150, centers=centers, cluster_std=std, random_state=30)"
   ]
  },
  {
   "cell_type": "markdown",
   "id": "1b38cc32",
   "metadata": {},
   "source": [
    "### Training Data Visualization"
   ]
  },
  {
   "cell_type": "code",
   "execution_count": 49,
   "id": "e1cc606d",
   "metadata": {},
   "outputs": [
    {
     "data": {
      "text/plain": [
       "Text(0.5, 0, 'Feature 1')"
      ]
     },
     "execution_count": 49,
     "metadata": {},
     "output_type": "execute_result"
    },
    {
     "data": {
      "image/png": "[encoded data removed]",
      "text/plain": [
       "<Figure size 432x432 with 1 Axes>"
      ]
     },
     "metadata": {},
     "output_type": "display_data"
    }
   ],
   "source": [
    "num0 = y_train == 0 \n",
    "num1 = y_train == 1\n",
    "num2 = y_train == 2\n",
    "num3 = y_train == 3\n",
    "\n",
    "fig, ax = plt.subplots(1, 1, figsize=(6,6))\n",
    "\n",
    "ax.scatter(X_train[num0, 0],X_train[num0, 1], c=\"b\", label=\"0\")\n",
    "ax.scatter(X_train[num1, 0],X_train[num1, 1], c=\"g\", label=\"1\")\n",
    "ax.scatter(X_train[num2, 0],X_train[num2, 1], c=\"orange\", label=\"2\")\n",
    "ax.scatter(X_train[num3, 0],X_train[num3, 1], c=\"purple\", label=\"3\");\n",
    "\n",
    "plt.legend(loc=\"upper right\")\n",
    "\n",
    "plt.ylabel('Feature 2') \n",
    "# Set the x-axis label\n",
    "plt.xlabel('Feature 1') \n",
    "\n"
   ]
  },
  {
   "cell_type": "code",
   "execution_count": 17,
   "id": "6ff2596c",
   "metadata": {},
   "outputs": [
    {
     "data": {
      "text/plain": [
       "array([0, 1, 2, 3])"
      ]
     },
     "execution_count": 17,
     "metadata": {},
     "output_type": "execute_result"
    }
   ],
   "source": [
    "np.unique(y_train)"
   ]
  },
  {
   "cell_type": "markdown",
   "id": "ea569b2a",
   "metadata": {},
   "source": [
    "## model\n"
   ]
  },
  {
   "cell_type": "code",
   "execution_count": 18,
   "id": "a19db606",
   "metadata": {},
   "outputs": [],
   "source": [
    "model = Sequential(\n",
    "    [\n",
    "    Dense(2, activation='relu', name=\"L1\"),\n",
    "    Dense(4, activation='linear', name='L2')\n",
    "    ]\n",
    ")"
   ]
  },
  {
   "cell_type": "code",
   "execution_count": 19,
   "id": "ccc8875a",
   "metadata": {},
   "outputs": [
    {
     "name": "stdout",
     "output_type": "stream",
     "text": [
      "Epoch 1/200\n",
      "5/5 [==============================] - 0s 3ms/step - loss: 1.7552\n",
      "Epoch 2/200\n",
      "5/5 [==============================] - 0s 2ms/step - loss: 1.4778\n",
      "Epoch 3/200\n",
      "5/5 [==============================] - 0s 0s/step - loss: 1.3015\n",
      "Epoch 4/200\n",
      "5/5 [==============================] - 0s 960us/step - loss: 1.1739\n",
      "Epoch 5/200\n",
      "5/5 [==============================] - 0s 3ms/step - loss: 1.0929\n",
      "Epoch 6/200\n",
      "5/5 [==============================] - 0s 0s/step - loss: 1.0400\n",
      "Epoch 7/200\n",
      "5/5 [==============================] - 0s 4ms/step - loss: 0.9889\n",
      "Epoch 8/200\n",
      "5/5 [==============================] - 0s 0s/step - loss: 0.9456\n",
      "Epoch 9/200\n",
      "5/5 [==============================] - 0s 2ms/step - loss: 0.9029\n",
      "Epoch 10/200\n",
      "5/5 [==============================] - 0s 0s/step - loss: 0.8654\n",
      "Epoch 11/200\n",
      "5/5 [==============================] - 0s 860us/step - loss: 0.8259\n",
      "Epoch 12/200\n",
      "5/5 [==============================] - 0s 0s/step - loss: 0.7903\n",
      "Epoch 13/200\n",
      "5/5 [==============================] - 0s 899us/step - loss: 0.7551\n",
      "Epoch 14/200\n",
      "5/5 [==============================] - 0s 3ms/step - loss: 0.7225\n",
      "Epoch 15/200\n",
      "5/5 [==============================] - 0s 294us/step - loss: 0.6901\n",
      "Epoch 16/200\n",
      "5/5 [==============================] - 0s 3ms/step - loss: 0.6616\n",
      "Epoch 17/200\n",
      "5/5 [==============================] - 0s 280us/step - loss: 0.6351\n",
      "Epoch 18/200\n",
      "5/5 [==============================] - 0s 3ms/step - loss: 0.6111\n",
      "Epoch 19/200\n",
      "5/5 [==============================] - 0s 336us/step - loss: 0.5889\n",
      "Epoch 20/200\n",
      "5/5 [==============================] - 0s 3ms/step - loss: 0.5672\n",
      "Epoch 21/200\n",
      "5/5 [==============================] - 0s 251us/step - loss: 0.5483\n",
      "Epoch 22/200\n",
      "5/5 [==============================] - 0s 3ms/step - loss: 0.5312\n",
      "Epoch 23/200\n",
      "5/5 [==============================] - 0s 323us/step - loss: 0.5151\n",
      "Epoch 24/200\n",
      "5/5 [==============================] - 0s 3ms/step - loss: 0.5003\n",
      "Epoch 25/200\n",
      "5/5 [==============================] - 0s 215us/step - loss: 0.4863\n",
      "Epoch 26/200\n",
      "5/5 [==============================] - 0s 4ms/step - loss: 0.4729\n",
      "Epoch 27/200\n",
      "5/5 [==============================] - 0s 0s/step - loss: 0.4606\n",
      "Epoch 28/200\n",
      "5/5 [==============================] - 0s 1ms/step - loss: 0.4478\n",
      "Epoch 29/200\n",
      "5/5 [==============================] - 0s 0s/step - loss: 0.4349\n",
      "Epoch 30/200\n",
      "5/5 [==============================] - 0s 1ms/step - loss: 0.4210\n",
      "Epoch 31/200\n",
      "5/5 [==============================] - 0s 0s/step - loss: 0.4061\n",
      "Epoch 32/200\n",
      "5/5 [==============================] - 0s 640us/step - loss: 0.3901\n",
      "Epoch 33/200\n",
      "5/5 [==============================] - 0s 3ms/step - loss: 0.3731\n",
      "Epoch 34/200\n",
      "5/5 [==============================] - 0s 584us/step - loss: 0.3565\n",
      "Epoch 35/200\n",
      "5/5 [==============================] - 0s 3ms/step - loss: 0.3379\n",
      "Epoch 36/200\n",
      "5/5 [==============================] - 0s 175us/step - loss: 0.3217\n",
      "Epoch 37/200\n",
      "5/5 [==============================] - 0s 3ms/step - loss: 0.3062\n",
      "Epoch 38/200\n",
      "5/5 [==============================] - 0s 664us/step - loss: 0.2918\n",
      "Epoch 39/200\n",
      "5/5 [==============================] - 0s 3ms/step - loss: 0.2770\n",
      "Epoch 40/200\n",
      "5/5 [==============================] - 0s 0s/step - loss: 0.2638\n",
      "Epoch 41/200\n",
      "5/5 [==============================] - 0s 1ms/step - loss: 0.2516\n",
      "Epoch 42/200\n",
      "5/5 [==============================] - 0s 3ms/step - loss: 0.2400\n",
      "Epoch 43/200\n",
      "5/5 [==============================] - 0s 804us/step - loss: 0.2298\n",
      "Epoch 44/200\n",
      "5/5 [==============================] - 0s 3ms/step - loss: 0.2204\n",
      "Epoch 45/200\n",
      "5/5 [==============================] - 0s 601us/step - loss: 0.2107\n",
      "Epoch 46/200\n",
      "5/5 [==============================] - 0s 3ms/step - loss: 0.2029\n",
      "Epoch 47/200\n",
      "5/5 [==============================] - 0s 423us/step - loss: 0.1946\n",
      "Epoch 48/200\n",
      "5/5 [==============================] - 0s 3ms/step - loss: 0.1874\n",
      "Epoch 49/200\n",
      "5/5 [==============================] - 0s 0s/step - loss: 0.1806\n",
      "Epoch 50/200\n",
      "5/5 [==============================] - 0s 4ms/step - loss: 0.1745\n",
      "Epoch 51/200\n",
      "5/5 [==============================] - 0s 0s/step - loss: 0.1685\n",
      "Epoch 52/200\n",
      "5/5 [==============================] - 0s 971us/step - loss: 0.1632\n",
      "Epoch 53/200\n",
      "5/5 [==============================] - 0s 4ms/step - loss: 0.1581\n",
      "Epoch 54/200\n",
      "5/5 [==============================] - 0s 177us/step - loss: 0.1533\n",
      "Epoch 55/200\n",
      "5/5 [==============================] - 0s 999us/step - loss: 0.1500\n",
      "Epoch 56/200\n",
      "5/5 [==============================] - 0s 2ms/step - loss: 0.1450\n",
      "Epoch 57/200\n",
      "5/5 [==============================] - 0s 274us/step - loss: 0.1410\n",
      "Epoch 58/200\n",
      "5/5 [==============================] - 0s 3ms/step - loss: 0.1378\n",
      "Epoch 59/200\n",
      "5/5 [==============================] - 0s 269us/step - loss: 0.1345\n",
      "Epoch 60/200\n",
      "5/5 [==============================] - 0s 3ms/step - loss: 0.1311\n",
      "Epoch 61/200\n",
      "5/5 [==============================] - 0s 535us/step - loss: 0.1284\n",
      "Epoch 62/200\n",
      "5/5 [==============================] - 0s 3ms/step - loss: 0.1252\n",
      "Epoch 63/200\n",
      "5/5 [==============================] - 0s 540us/step - loss: 0.1227\n",
      "Epoch 64/200\n",
      "5/5 [==============================] - 0s 3ms/step - loss: 0.1199\n",
      "Epoch 65/200\n",
      "5/5 [==============================] - 0s 868us/step - loss: 0.1171\n",
      "Epoch 66/200\n",
      "5/5 [==============================] - 0s 0s/step - loss: 0.1131\n",
      "Epoch 67/200\n",
      "5/5 [==============================] - 0s 948us/step - loss: 0.1101\n",
      "Epoch 68/200\n",
      "5/5 [==============================] - 0s 0s/step - loss: 0.1072\n",
      "Epoch 69/200\n",
      "5/5 [==============================] - 0s 1ms/step - loss: 0.1046\n",
      "Epoch 70/200\n",
      "5/5 [==============================] - 0s 0s/step - loss: 0.1019\n",
      "Epoch 71/200\n",
      "5/5 [==============================] - 0s 838us/step - loss: 0.1006\n",
      "Epoch 72/200\n",
      "5/5 [==============================] - 0s 3ms/step - loss: 0.0973\n",
      "Epoch 73/200\n",
      "5/5 [==============================] - 0s 569us/step - loss: 0.0956\n",
      "Epoch 74/200\n",
      "5/5 [==============================] - 0s 3ms/step - loss: 0.0927\n",
      "Epoch 75/200\n",
      "5/5 [==============================] - 0s 424us/step - loss: 0.0909\n",
      "Epoch 76/200\n",
      "5/5 [==============================] - 0s 3ms/step - loss: 0.0890\n",
      "Epoch 77/200\n",
      "5/5 [==============================] - 0s 619us/step - loss: 0.0872\n",
      "Epoch 78/200\n",
      "5/5 [==============================] - 0s 3ms/step - loss: 0.0852\n",
      "Epoch 79/200\n",
      "5/5 [==============================] - 0s 699us/step - loss: 0.0837\n",
      "Epoch 80/200\n",
      "5/5 [==============================] - 0s 3ms/step - loss: 0.0823\n",
      "Epoch 81/200\n",
      "5/5 [==============================] - 0s 442us/step - loss: 0.0806\n",
      "Epoch 82/200\n",
      "5/5 [==============================] - 0s 3ms/step - loss: 0.0792\n",
      "Epoch 83/200\n",
      "5/5 [==============================] - 0s 2ms/step - loss: 0.0782\n",
      "Epoch 84/200\n",
      "5/5 [==============================] - 0s 1ms/step - loss: 0.0765\n",
      "Epoch 85/200\n",
      "5/5 [==============================] - 0s 1ms/step - loss: 0.0753\n",
      "Epoch 86/200\n",
      "5/5 [==============================] - 0s 1ms/step - loss: 0.0743\n",
      "Epoch 87/200\n",
      "5/5 [==============================] - 0s 1ms/step - loss: 0.0728\n",
      "Epoch 88/200\n",
      "5/5 [==============================] - 0s 1ms/step - loss: 0.0717\n",
      "Epoch 89/200\n",
      "5/5 [==============================] - 0s 0s/step - loss: 0.0709\n",
      "Epoch 90/200\n",
      "5/5 [==============================] - 0s 3ms/step - loss: 0.0696\n",
      "Epoch 91/200\n",
      "5/5 [==============================] - 0s 272us/step - loss: 0.0685\n",
      "Epoch 92/200\n",
      "5/5 [==============================] - 0s 3ms/step - loss: 0.0676\n",
      "Epoch 93/200\n",
      "5/5 [==============================] - 0s 793us/step - loss: 0.0667\n",
      "Epoch 94/200\n",
      "5/5 [==============================] - 0s 3ms/step - loss: 0.0663\n",
      "Epoch 95/200\n",
      "5/5 [==============================] - 0s 2ms/step - loss: 0.0651\n",
      "Epoch 96/200\n",
      "5/5 [==============================] - 0s 336us/step - loss: 0.0639\n",
      "Epoch 97/200\n",
      "5/5 [==============================] - 0s 4ms/step - loss: 0.0634\n",
      "Epoch 98/200\n",
      "5/5 [==============================] - 0s 0s/step - loss: 0.0637\n",
      "Epoch 99/200\n",
      "5/5 [==============================] - 0s 4ms/step - loss: 0.0617\n",
      "Epoch 100/200\n",
      "5/5 [==============================] - 0s 0s/step - loss: 0.0609\n",
      "Epoch 101/200\n",
      "5/5 [==============================] - 0s 879us/step - loss: 0.0600\n",
      "Epoch 102/200\n",
      "5/5 [==============================] - 0s 0s/step - loss: 0.0593\n",
      "Epoch 103/200\n",
      "5/5 [==============================] - 0s 516us/step - loss: 0.0587\n",
      "Epoch 104/200\n"
     ]
    },
    {
     "name": "stdout",
     "output_type": "stream",
     "text": [
      "5/5 [==============================] - 0s 0s/step - loss: 0.0580\n",
      "Epoch 105/200\n",
      "5/5 [==============================] - 0s 1ms/step - loss: 0.0575\n",
      "Epoch 106/200\n",
      "5/5 [==============================] - 0s 999us/step - loss: 0.0568\n",
      "Epoch 107/200\n",
      "5/5 [==============================] - 0s 1ms/step - loss: 0.0562\n",
      "Epoch 108/200\n",
      "5/5 [==============================] - 0s 0s/step - loss: 0.0561\n",
      "Epoch 109/200\n",
      "5/5 [==============================] - 0s 3ms/step - loss: 0.0551\n",
      "Epoch 110/200\n",
      "5/5 [==============================] - 0s 0s/step - loss: 0.0551\n",
      "Epoch 111/200\n",
      "5/5 [==============================] - 0s 0s/step - loss: 0.0539\n",
      "Epoch 112/200\n",
      "5/5 [==============================] - 0s 849us/step - loss: 0.0533\n",
      "Epoch 113/200\n",
      "5/5 [==============================] - 0s 0s/step - loss: 0.0528\n",
      "Epoch 114/200\n",
      "5/5 [==============================] - 0s 4ms/step - loss: 0.0526\n",
      "Epoch 115/200\n",
      "5/5 [==============================] - 0s 0s/step - loss: 0.0519\n",
      "Epoch 116/200\n",
      "5/5 [==============================] - 0s 3ms/step - loss: 0.0512\n",
      "Epoch 117/200\n",
      "5/5 [==============================] - 0s 0s/step - loss: 0.0508\n",
      "Epoch 118/200\n",
      "5/5 [==============================] - 0s 3ms/step - loss: 0.0503\n",
      "Epoch 119/200\n",
      "5/5 [==============================] - 0s 114us/step - loss: 0.0498\n",
      "Epoch 120/200\n",
      "5/5 [==============================] - 0s 0s/step - loss: 0.0500\n",
      "Epoch 121/200\n",
      "5/5 [==============================] - 0s 741us/step - loss: 0.0491\n",
      "Epoch 122/200\n",
      "5/5 [==============================] - 0s 0s/step - loss: 0.0486\n",
      "Epoch 123/200\n",
      "5/5 [==============================] - 0s 4ms/step - loss: 0.0482\n",
      "Epoch 124/200\n",
      "5/5 [==============================] - 0s 0s/step - loss: 0.0480\n",
      "Epoch 125/200\n",
      "5/5 [==============================] - 0s 4ms/step - loss: 0.0474\n",
      "Epoch 126/200\n",
      "5/5 [==============================] - 0s 0s/step - loss: 0.0473\n",
      "Epoch 127/200\n",
      "5/5 [==============================] - 0s 4ms/step - loss: 0.0472\n",
      "Epoch 128/200\n",
      "5/5 [==============================] - 0s 0s/step - loss: 0.0460\n",
      "Epoch 129/200\n",
      "5/5 [==============================] - 0s 4ms/step - loss: 0.0459\n",
      "Epoch 130/200\n",
      "5/5 [==============================] - 0s 0s/step - loss: 0.0453\n",
      "Epoch 131/200\n",
      "5/5 [==============================] - 0s 4ms/step - loss: 0.0458\n",
      "Epoch 132/200\n",
      "5/5 [==============================] - 0s 0s/step - loss: 0.0453\n",
      "Epoch 133/200\n",
      "5/5 [==============================] - 0s 1ms/step - loss: 0.0444\n",
      "Epoch 134/200\n",
      "5/5 [==============================] - 0s 0s/step - loss: 0.0441\n",
      "Epoch 135/200\n",
      "5/5 [==============================] - 0s 996us/step - loss: 0.0439\n",
      "Epoch 136/200\n",
      "5/5 [==============================] - 0s 0s/step - loss: 0.0433\n",
      "Epoch 137/200\n",
      "5/5 [==============================] - 0s 902us/step - loss: 0.0438\n",
      "Epoch 138/200\n",
      "5/5 [==============================] - 0s 0s/step - loss: 0.0428\n",
      "Epoch 139/200\n",
      "5/5 [==============================] - 0s 778us/step - loss: 0.0433\n",
      "Epoch 140/200\n",
      "5/5 [==============================] - 0s 0s/step - loss: 0.0421\n",
      "Epoch 141/200\n",
      "5/5 [==============================] - 0s 1ms/step - loss: 0.0419\n",
      "Epoch 142/200\n",
      "5/5 [==============================] - 0s 0s/step - loss: 0.0416\n",
      "Epoch 143/200\n",
      "5/5 [==============================] - 0s 806us/step - loss: 0.0411\n",
      "Epoch 144/200\n",
      "5/5 [==============================] - 0s 3ms/step - loss: 0.0408\n",
      "Epoch 145/200\n",
      "5/5 [==============================] - 0s 428us/step - loss: 0.0409\n",
      "Epoch 146/200\n",
      "5/5 [==============================] - 0s 3ms/step - loss: 0.0407\n",
      "Epoch 147/200\n",
      "5/5 [==============================] - 0s 60us/step - loss: 0.0400\n",
      "Epoch 148/200\n",
      "5/5 [==============================] - 0s 3ms/step - loss: 0.0400\n",
      "Epoch 149/200\n",
      "5/5 [==============================] - 0s 635us/step - loss: 0.0397\n",
      "Epoch 150/200\n",
      "5/5 [==============================] - 0s 0s/step - loss: 0.0393\n",
      "Epoch 151/200\n",
      "5/5 [==============================] - 0s 765us/step - loss: 0.0391\n",
      "Epoch 152/200\n",
      "5/5 [==============================] - 0s 0s/step - loss: 0.0389\n",
      "Epoch 153/200\n",
      "5/5 [==============================] - 0s 611us/step - loss: 0.0383\n",
      "Epoch 154/200\n",
      "5/5 [==============================] - 0s 0s/step - loss: 0.0384\n",
      "Epoch 155/200\n",
      "5/5 [==============================] - 0s 470us/step - loss: 0.0383\n",
      "Epoch 156/200\n",
      "5/5 [==============================] - 0s 3ms/step - loss: 0.0381\n",
      "Epoch 157/200\n",
      "5/5 [==============================] - 0s 1ms/step - loss: 0.0378\n",
      "Epoch 158/200\n",
      "5/5 [==============================] - 0s 839us/step - loss: 0.0372\n",
      "Epoch 159/200\n",
      "5/5 [==============================] - 0s 912us/step - loss: 0.0377\n",
      "Epoch 160/200\n",
      "5/5 [==============================] - 0s 0s/step - loss: 0.0369\n",
      "Epoch 161/200\n",
      "5/5 [==============================] - 0s 1ms/step - loss: 0.0370\n",
      "Epoch 162/200\n",
      "5/5 [==============================] - 0s 0s/step - loss: 0.0365\n",
      "Epoch 163/200\n",
      "5/5 [==============================] - 0s 4ms/step - loss: 0.0362\n",
      "Epoch 164/200\n",
      "5/5 [==============================] - 0s 1ms/step - loss: 0.0367\n",
      "Epoch 165/200\n",
      "5/5 [==============================] - 0s 1000us/step - loss: 0.0361\n",
      "Epoch 166/200\n",
      "5/5 [==============================] - 0s 0s/step - loss: 0.0357\n",
      "Epoch 167/200\n",
      "5/5 [==============================] - 0s 3ms/step - loss: 0.0368\n",
      "Epoch 168/200\n",
      "5/5 [==============================] - 0s 214us/step - loss: 0.0356\n",
      "Epoch 169/200\n",
      "5/5 [==============================] - 0s 0s/step - loss: 0.0351\n",
      "Epoch 170/200\n",
      "5/5 [==============================] - 0s 838us/step - loss: 0.0351\n",
      "Epoch 171/200\n",
      "5/5 [==============================] - 0s 0s/step - loss: 0.0349\n",
      "Epoch 172/200\n",
      "5/5 [==============================] - 0s 4ms/step - loss: 0.0345\n",
      "Epoch 173/200\n",
      "5/5 [==============================] - 0s 0s/step - loss: 0.0348\n",
      "Epoch 174/200\n",
      "5/5 [==============================] - 0s 4ms/step - loss: 0.0340\n",
      "Epoch 175/200\n",
      "5/5 [==============================] - 0s 0s/step - loss: 0.0341\n",
      "Epoch 176/200\n",
      "5/5 [==============================] - 0s 4ms/step - loss: 0.0340\n",
      "Epoch 177/200\n",
      "5/5 [==============================] - 0s 0s/step - loss: 0.0343\n",
      "Epoch 178/200\n",
      "5/5 [==============================] - 0s 3ms/step - loss: 0.0334\n",
      "Epoch 179/200\n",
      "5/5 [==============================] - 0s 0s/step - loss: 0.0335\n",
      "Epoch 180/200\n",
      "5/5 [==============================] - 0s 0s/step - loss: 0.0328\n",
      "Epoch 181/200\n",
      "5/5 [==============================] - 0s 751us/step - loss: 0.0328\n",
      "Epoch 182/200\n",
      "5/5 [==============================] - 0s 0s/step - loss: 0.0329\n",
      "Epoch 183/200\n",
      "5/5 [==============================] - 0s 1ms/step - loss: 0.0327\n",
      "Epoch 184/200\n",
      "5/5 [==============================] - 0s 0s/step - loss: 0.0323\n",
      "Epoch 185/200\n",
      "5/5 [==============================] - 0s 1ms/step - loss: 0.0321\n",
      "Epoch 186/200\n",
      "5/5 [==============================] - 0s 0s/step - loss: 0.0319\n",
      "Epoch 187/200\n",
      "5/5 [==============================] - 0s 1ms/step - loss: 0.0320\n",
      "Epoch 188/200\n",
      "5/5 [==============================] - 0s 0s/step - loss: 0.0318\n",
      "Epoch 189/200\n",
      "5/5 [==============================] - 0s 833us/step - loss: 0.0314\n",
      "Epoch 190/200\n",
      "5/5 [==============================] - 0s 0s/step - loss: 0.0312\n",
      "Epoch 191/200\n",
      "5/5 [==============================] - 0s 699us/step - loss: 0.0312\n",
      "Epoch 192/200\n",
      "5/5 [==============================] - 0s 3ms/step - loss: 0.0310\n",
      "Epoch 193/200\n",
      "5/5 [==============================] - 0s 0s/step - loss: 0.0311\n",
      "Epoch 194/200\n",
      "5/5 [==============================] - 0s 4ms/step - loss: 0.0308\n",
      "Epoch 195/200\n",
      "5/5 [==============================] - 0s 0s/step - loss: 0.0307\n",
      "Epoch 196/200\n",
      "5/5 [==============================] - 0s 4ms/step - loss: 0.0307\n",
      "Epoch 197/200\n",
      "5/5 [==============================] - 0s 0s/step - loss: 0.0304\n",
      "Epoch 198/200\n",
      "5/5 [==============================] - 0s 4ms/step - loss: 0.0303\n",
      "Epoch 199/200\n",
      "5/5 [==============================] - 0s 0s/step - loss: 0.0299\n",
      "Epoch 200/200\n",
      "5/5 [==============================] - 0s 4ms/step - loss: 0.0301\n"
     ]
    },
    {
     "data": {
      "text/plain": [
       "<keras.callbacks.History at 0x1de7ed3f460>"
      ]
     },
     "execution_count": 19,
     "metadata": {},
     "output_type": "execute_result"
    }
   ],
   "source": [
    "model.compile(\n",
    "    loss= tf.keras.losses.SparseCategoricalCrossentropy(from_logits=True),\n",
    "    optimizer = tf.keras.optimizers.Adam(.01)\n",
    "\n",
    ")\n",
    "\n",
    "model.fit(\n",
    "    X_train, y_train,\n",
    "    epochs=200\n",
    ")"
   ]
  },
  {
   "cell_type": "markdown",
   "id": "cc66160b",
   "metadata": {},
   "source": [
    "## Get Weights"
   ]
  },
  {
   "cell_type": "code",
   "execution_count": 20,
   "id": "3ac69649",
   "metadata": {},
   "outputs": [
    {
     "data": {
      "text/plain": [
       "(array([[ 0.65,  1.41],\n",
       "        [-2.5 ,  0.37]], dtype=float32),\n",
       " array([1.62, 1.86], dtype=float32))"
      ]
     },
     "execution_count": 20,
     "metadata": {},
     "output_type": "execute_result"
    }
   ],
   "source": [
    "l1 = model.get_layer(\"L1\")\n",
    "w1,b1 = l1.get_weights()\n",
    "w1, b1"
   ]
  },
  {
   "cell_type": "code",
   "execution_count": 23,
   "id": "1337eb69",
   "metadata": {},
   "outputs": [
    {
     "data": {
      "text/plain": [
       "1.6193247"
      ]
     },
     "execution_count": 23,
     "metadata": {},
     "output_type": "execute_result"
    }
   ],
   "source": [
    "x2 = (-x1 * w1[0,0] - b1[0]) / w1[1,0]\n",
    "x4 = (-x3 * w1[1,0] - b1[1]) / w1[1,1]"
   ]
  },
  {
   "cell_type": "code",
   "execution_count": 24,
   "id": "9ca41333",
   "metadata": {},
   "outputs": [
    {
     "data": {
      "text/plain": [
       "(array([[-1.99,  1.21, -1.74,  0.16],\n",
       "        [-3.46, -2.06,  1.13,  0.86]], dtype=float32),\n",
       " array([ 4.01, -0.96,  0.17, -3.12], dtype=float32))"
      ]
     },
     "execution_count": 24,
     "metadata": {},
     "output_type": "execute_result"
    }
   ],
   "source": [
    "l2 = model.get_layer(\"L2\")\n",
    "w2,b2 = l2.get_weights()\n",
    "w2, b2"
   ]
  },
  {
   "cell_type": "markdown",
   "id": "a3839dbf",
   "metadata": {},
   "source": [
    "## Output of layer 1 "
   ]
  },
  {
   "cell_type": "code",
   "execution_count": 25,
   "id": "29f744f0",
   "metadata": {},
   "outputs": [
    {
     "data": {
      "text/plain": [
       "array([[0.  , 6.77],\n",
       "       [0.  , 0.  ],\n",
       "       [3.14, 0.  ],\n",
       "       [6.28, 7.97]])"
      ]
     },
     "execution_count": 25,
     "metadata": {},
     "output_type": "execute_result"
    }
   ],
   "source": [
    "a_1 = np.maximum(0, np.dot(X_train, w1) + b1) #output of layer 1\n",
    "a_1[:4]"
   ]
  },
  {
   "cell_type": "code",
   "execution_count": 26,
   "id": "342da115",
   "metadata": {},
   "outputs": [
    {
     "data": {
      "text/plain": [
       "array([[ 3.1 ,  1.46],\n",
       "       [-7.9 ,  3.62],\n",
       "       [-2.66, -1.3 ],\n",
       "       [ 4.53, -0.69]])"
      ]
     },
     "execution_count": 26,
     "metadata": {},
     "output_type": "execute_result"
    }
   ],
   "source": [
    "X_train[:4]"
   ]
  },
  {
   "cell_type": "markdown",
   "id": "be614ca2",
   "metadata": {},
   "source": [
    "## Output of layer 2"
   ]
  },
  {
   "cell_type": "code",
   "execution_count": 27,
   "id": "bb22e273",
   "metadata": {},
   "outputs": [
    {
     "name": "stdout",
     "output_type": "stream",
     "text": [
      "[[-19.38 -14.86   7.84   2.72]\n",
      " [  4.01  -0.96   0.17  -3.12]\n",
      " [ -2.23   2.84  -5.27  -2.62]\n",
      " [-36.07  -9.74  -1.71   4.77]]\n",
      "5/5 [==============================] - 0s 1ms/step\n"
     ]
    },
    {
     "data": {
      "text/plain": [
       "array([[-19.38, -14.86,   7.84,   2.72],\n",
       "       [  4.01,  -0.96,   0.17,  -3.12],\n",
       "       [ -2.23,   2.84,  -5.27,  -2.62],\n",
       "       [-36.07,  -9.74,  -1.71,   4.77]], dtype=float32)"
      ]
     },
     "execution_count": 27,
     "metadata": {},
     "output_type": "execute_result"
    }
   ],
   "source": [
    "a_2 = np.dot(a_1, w2) + b2  # output of layer 2\n",
    "print(a_2[:4])\n",
    "\n",
    "# same result \n",
    "op = model.predict(X_train)\n",
    "op[:4]"
   ]
  },
  {
   "cell_type": "markdown",
   "id": "61eaddea",
   "metadata": {},
   "source": [
    "# Visualization "
   ]
  },
  {
   "cell_type": "code",
   "execution_count": 40,
   "id": "62a4797a",
   "metadata": {},
   "outputs": [
    {
     "name": "stdout",
     "output_type": "stream",
     "text": [
      "197/197 [==============================] - 0s 762us/step\n"
     ]
    },
    {
     "data": {
      "image/png": "[encoded data removed]",
      "text/plain": [
       "<Figure size 216x216 with 1 Axes>"
      ]
     },
     "metadata": {},
     "output_type": "display_data"
    }
   ],
   "source": [
    "plt_cat_mc(X_train, y_train, model, classes= 4) "
   ]
  },
  {
   "cell_type": "code",
   "execution_count": 43,
   "id": "175c886b",
   "metadata": {},
   "outputs": [
    {
     "data": {
      "image/png": "[encoded data removed]",
      "text/plain": [
       "<Figure size 504x180 with 4 Axes>"
      ]
     },
     "metadata": {},
     "output_type": "display_data"
    }
   ],
   "source": [
    "plt_layer_relu(X_train, y_train.reshape(-1,), w1, b1, classes=4)"
   ]
  },
  {
   "cell_type": "code",
   "execution_count": 50,
   "id": "c99d7102",
   "metadata": {},
   "outputs": [
    {
     "name": "stdout",
     "output_type": "stream",
     "text": [
      "   a_1 = [0.   6.77]  => category: 2 => actual category: 2\n",
      "   a_1 = [0. 0.]  => category: 0 => actual category: 0\n",
      "   a_1 = [3.14 0.  ]  => category: 1 => actual category: 1\n",
      "   a_1 = [6.28 7.97]  => category: 3 => actual category: 3\n",
      "   a_1 = [14.22  7.74]  => category: 3 => actual category: 3\n",
      "   a_1 = [0.   4.15]  => category: 2 => actual category: 2\n",
      "   a_1 = [0. 0.]  => category: 0 => actual category: 0\n"
     ]
    }
   ],
   "source": [
    "n = 7\n",
    "for i in range(n):\n",
    "    print(f\"   a_1 = {a_1[i]}  => category: {np.argmax(a_2[i])} => actual category: {y_train[i]}\")"
   ]
  },
  {
   "cell_type": "markdown",
   "id": "67ff6d16",
   "metadata": {},
   "source": [
    "# Conclusion "
   ]
  },
  {
   "cell_type": "markdown",
   "id": "f0a04d49",
   "metadata": {},
   "source": [
    "## you can see at layer 1 if \n",
    "\n",
    "### neuron 0 = 0 and neuron 1 = 0  => reault is 0\n",
    "### neuron 0 = 1 and neuron 1 = 0  => reault is 1\n",
    "### neuron 0 = 0 and neuron 1 = 1  => reault is 2\n",
    "### neuron 0 = 1 and neuron 1 = 1  => reault is 3\n"
   ]
  },
  {
   "cell_type": "markdown",
   "id": "2a6231ab",
   "metadata": {},
   "source": [
    "# Test  training data "
   ]
  },
  {
   "cell_type": "code",
   "execution_count": 53,
   "id": "bd564df4",
   "metadata": {},
   "outputs": [
    {
     "name": "stdout",
     "output_type": "stream",
     "text": [
      "5/5 [==============================] - 0s 753us/step\n"
     ]
    },
    {
     "data": {
      "text/plain": [
       "array([[-19.38, -14.86,   7.84,   2.72],\n",
       "       [  4.01,  -0.96,   0.17,  -3.12],\n",
       "       [ -2.23,   2.84,  -5.27,  -2.62],\n",
       "       [-36.07,  -9.74,  -1.71,   4.77]], dtype=float32)"
      ]
     },
     "execution_count": 53,
     "metadata": {},
     "output_type": "execute_result"
    }
   ],
   "source": [
    "model_predict = model.predict(X_train)\n",
    "model_predict[:4]"
   ]
  },
  {
   "cell_type": "code",
   "execution_count": 70,
   "id": "f1f16675",
   "metadata": {},
   "outputs": [
    {
     "name": "stdout",
     "output_type": "stream",
     "text": [
      "a_2 = [-19.38 -14.86   7.84   2.72]  => category: 2 => actual category: 2\n",
      "a_2 = [ 4.01 -0.96  0.17 -3.12]  => category: 0 => actual category: 0\n",
      "a_2 = [-2.23  2.84 -5.27 -2.62]  => category: 1 => actual category: 1\n",
      "a_2 = [-36.07  -9.74  -1.71   4.77]  => category: 3 => actual category: 3\n",
      "a_2 = [-51.06   0.32 -15.75   5.83]  => category: 3 => actual category: 3\n",
      "a_2 = [-10.34  -9.49   4.88   0.46]  => category: 2 => actual category: 2\n",
      "a_2 = [ 4.01 -0.96  0.17 -3.12]  => category: 0 => actual category: 0\n"
     ]
    }
   ],
   "source": [
    "n = 7\n",
    "for i in range(n):\n",
    "    print(f\"a_2 = {model_predict[i]}  => category: {np.argmax(model_predict[i])} => actual category: {y_train[i]}\")"
   ]
  },
  {
   "cell_type": "code",
   "execution_count": 61,
   "id": "86820785",
   "metadata": {},
   "outputs": [],
   "source": [
    "pred_train = np.zeros(len(y_train), dtype=int)\n",
    "for j in range(len(y_train)):\n",
    "    pred_train[j] = np.argmax(model_predict[j])\n"
   ]
  },
  {
   "cell_type": "code",
   "execution_count": 60,
   "id": "f1e535f8",
   "metadata": {},
   "outputs": [
    {
     "data": {
      "text/plain": [
       "array([0, 1, 1, 0, 0, 1, 1, 0, 1, 1])"
      ]
     },
     "execution_count": 60,
     "metadata": {},
     "output_type": "execute_result"
    }
   ],
   "source": [
    "pred_train[:10], y_train"
   ]
  },
  {
   "cell_type": "markdown",
   "id": "973b7346",
   "metadata": {},
   "source": [
    "## Evaluate Training"
   ]
  },
  {
   "cell_type": "code",
   "execution_count": 63,
   "id": "8aa4fca8",
   "metadata": {},
   "outputs": [
    {
     "data": {
      "text/plain": [
       "148"
      ]
     },
     "execution_count": 63,
     "metadata": {},
     "output_type": "execute_result"
    }
   ],
   "source": [
    "(pred_train == y_train).sum()"
   ]
  },
  {
   "cell_type": "markdown",
   "id": "3fe22f28",
   "metadata": {},
   "source": [
    "# Test using unseen data "
   ]
  },
  {
   "cell_type": "code",
   "execution_count": 64,
   "id": "bbd7f926",
   "metadata": {},
   "outputs": [],
   "source": [
    "centers = [[-5, 2], [-2, -2], [1, 2], [5, -2]]\n",
    "std = 1.0\n",
    "\n",
    "X_test , y_test = make_blobs(n_samples=20, centers=centers, cluster_std=std, random_state=30)"
   ]
  },
  {
   "cell_type": "code",
   "execution_count": 65,
   "id": "8cf3091a",
   "metadata": {},
   "outputs": [
    {
     "name": "stdout",
     "output_type": "stream",
     "text": [
      "1/1 [==============================] - 0s 21ms/step\n"
     ]
    },
    {
     "data": {
      "text/plain": [
       "array([[  4.01,  -0.96,   0.17,  -3.12],\n",
       "       [-57.73,  -0.89, -16.32,   7.1 ],\n",
       "       [ -9.22,  -8.82,   4.51,   0.18],\n",
       "       [  4.01,  -0.96,   0.17,  -3.12]], dtype=float32)"
      ]
     },
     "execution_count": 65,
     "metadata": {},
     "output_type": "execute_result"
    }
   ],
   "source": [
    "test_data = model.predict(X_test)\n",
    "test_data[:4]"
   ]
  },
  {
   "cell_type": "code",
   "execution_count": 66,
   "id": "f32b7176",
   "metadata": {},
   "outputs": [
    {
     "name": "stdout",
     "output_type": "stream",
     "text": [
      "[ 4.01 -0.96  0.17 -3.12], category: 0, actual category: 0\n",
      "[-57.73  -0.89 -16.32   7.1 ], category: 3, actual category: 3\n",
      "[-9.22 -8.82  4.51  0.18], category: 2, actual category: 2\n",
      "[ 4.01 -0.96  0.17 -3.12], category: 0, actual category: 0\n",
      "[-3.54  3.63 -6.41 -2.52], category: 1, actual category: 1\n",
      "[-52.63  -3.56 -12.29   6.64], category: 3, actual category: 3\n",
      "[ 4.01 -0.96  0.17 -3.12], category: 0, actual category: 0\n"
     ]
    }
   ],
   "source": [
    "n = 7\n",
    "for i in range(n):\n",
    "    print(f\"{test_data[i]}, category: {np.argmax(test_data[i])}, actual category: {y_test[i]}\")"
   ]
  },
  {
   "cell_type": "markdown",
   "id": "d52dfe08",
   "metadata": {},
   "source": [
    "## Check that X_test not exist in  X_train "
   ]
  },
  {
   "cell_type": "code",
   "execution_count": 67,
   "id": "88839976",
   "metadata": {},
   "outputs": [
    {
     "data": {
      "text/plain": [
       "0"
      ]
     },
     "execution_count": 67,
     "metadata": {},
     "output_type": "execute_result"
    }
   ],
   "source": [
    "(X_train[:4]== X_test[:4]).sum() "
   ]
  },
  {
   "cell_type": "markdown",
   "id": "21440c38",
   "metadata": {},
   "source": [
    "## Evaluate test "
   ]
  },
  {
   "cell_type": "code",
   "execution_count": 68,
   "id": "4ce7118a",
   "metadata": {},
   "outputs": [],
   "source": [
    "pred_test = np.zeros(len(y_test), dtype=int)\n",
    "for j in range(len(y_test)):\n",
    "    pred_test[j] = np.argmax(test_data[j])\n"
   ]
  },
  {
   "cell_type": "code",
   "execution_count": 69,
   "id": "d208595d",
   "metadata": {},
   "outputs": [
    {
     "data": {
      "text/plain": [
       "19"
      ]
     },
     "execution_count": 69,
     "metadata": {},
     "output_type": "execute_result"
    }
   ],
   "source": [
    "true_prediction_test = (pred_test == y_test).sum()\n",
    "true_prediction_test"
   ]
  },
  {
   "cell_type": "code",
   "execution_count": null,
   "id": "dee5181c",
   "metadata": {},
   "outputs": [],
   "source": []
  },
  {
   "cell_type": "code",
   "execution_count": null,
   "id": "e3b8563d",
   "metadata": {},
   "outputs": [],
   "source": []
  },
  {
   "cell_type": "code",
   "execution_count": null,
   "id": "df684743",
   "metadata": {},
   "outputs": [],
   "source": []
  },
  {
   "cell_type": "code",
   "execution_count": null,
   "id": "4d85ba3d",
   "metadata": {},
   "outputs": [],
   "source": []
  },
  {
   "cell_type": "code",
   "execution_count": null,
   "id": "960bdcca",
   "metadata": {},
   "outputs": [],
   "source": []
  },
  {
   "cell_type": "code",
   "execution_count": null,
   "id": "763d9504",
   "metadata": {},
   "outputs": [],
   "source": []
  }
 ],
 "metadata": {
  "kernelspec": {
   "display_name": "Python 3 (ipykernel)",
   "language": "python",
   "name": "python3"
  },
  "language_info": {
   "codemirror_mode": {
    "name": "ipython",
    "version": 3
   },
   "file_extension": ".py",
   "mimetype": "text/x-python",
   "name": "python",
   "nbconvert_exporter": "python",
   "pygments_lexer": "ipython3",
   "version": "3.9.12"
  }
 },
 "nbformat": 4,
 "nbformat_minor": 5
}
